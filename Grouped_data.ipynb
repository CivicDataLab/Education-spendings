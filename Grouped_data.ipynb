{
 "cells": [
  {
   "cell_type": "code",
   "execution_count": 1,
   "metadata": {},
   "outputs": [],
   "source": [
    "import numpy as np\n",
    "import pandas as pd"
   ]
  },
  {
   "cell_type": "code",
   "execution_count": 2,
   "metadata": {},
   "outputs": [],
   "source": [
    "spen1=pd.read_csv(\"district_spending_expenditure_fy_2018_19.csv\")"
   ]
  },
  {
   "cell_type": "code",
   "execution_count": 3,
   "metadata": {},
   "outputs": [],
   "source": [
    "spen2=pd.read_csv(\"district_spending_expenditure_fy_2019_20_lat.csv\")"
   ]
  },
  {
   "cell_type": "code",
   "execution_count": 4,
   "metadata": {},
   "outputs": [
    {
     "data": {
      "text/plain": [
       "(900736, 27)"
      ]
     },
     "execution_count": 4,
     "metadata": {},
     "output_type": "execute_result"
    }
   ],
   "source": [
    "spen1.shape"
   ]
  },
  {
   "cell_type": "code",
   "execution_count": 5,
   "metadata": {},
   "outputs": [
    {
     "data": {
      "text/plain": [
       "(849062, 27)"
      ]
     },
     "execution_count": 5,
     "metadata": {},
     "output_type": "execute_result"
    }
   ],
   "source": [
    "spen2.shape"
   ]
  },
  {
   "cell_type": "code",
   "execution_count": 6,
   "metadata": {},
   "outputs": [
    {
     "data": {
      "text/plain": [
       "Index(['District', 'Treasury_Code', 'Treasury', 'DDO_Code', 'DDO_Desc',\n",
       "       'demand', 'demand_desc', 'major', 'major_desc', 'sub_major',\n",
       "       'sub_major_desc', 'minor', 'minor_desc', 'sub_minor', 'sub_minor_desc',\n",
       "       'budget', 'voted_charged', 'plan_nonplan', 'SOE', 'SOE_description',\n",
       "       'TRANSDATE', 'Voucher', 'BILLS', 'GROSS', 'AGDED', 'BTDED',\n",
       "       'NETPAYMENT'],\n",
       "      dtype='object')"
      ]
     },
     "execution_count": 6,
     "metadata": {},
     "output_type": "execute_result"
    }
   ],
   "source": [
    "spen1.columns"
   ]
  },
  {
   "cell_type": "code",
   "execution_count": 7,
   "metadata": {},
   "outputs": [
    {
     "data": {
      "text/plain": [
       "Index(['District', 'Treasury_Code', 'Treasury', 'DDO_Code', 'DDO_Desc',\n",
       "       'demand', 'demand_desc', 'major', 'major_desc', 'sub_major',\n",
       "       'sub_major_desc', 'minor', 'minor_desc', 'sub_minor', 'sub_minor_desc',\n",
       "       'budget', 'voted_charged', 'plan_nonplan', 'SOE', 'SOE_description',\n",
       "       'TRANSDATE', 'Voucher', 'BILLS', 'GROSS', 'AGDED', 'BTDED',\n",
       "       'NETPAYMENT'],\n",
       "      dtype='object')"
      ]
     },
     "execution_count": 7,
     "metadata": {},
     "output_type": "execute_result"
    }
   ],
   "source": [
    "spen2.columns"
   ]
  },
  {
   "cell_type": "code",
   "execution_count": 8,
   "metadata": {},
   "outputs": [
    {
     "data": {
      "text/plain": [
       "demand_desc                                              major  major_desc                      sub_major  sub_major_desc                                  minor  minor_desc                                                                    sub_minor  sub_minor_desc                                                       budget  voted_charged  plan_nonplan  SOE  SOE_description                    \n",
       "ADMINISTRATION OF JUSTICE                                2059   PUBLIC WORKS                    1          OFFICE BUILDINGS                                53     MAINTENANCE AND REPAIRS                                                       48         MAINTENANCE OF PROSECUTION DEPARTMENT BUILDINGS [S00N]               S00N    V              N             21   MAINTENANCE                            1.095870e+05\n",
       "                                                                                                                                                                                                                                                57         MAINTENANCE OF LOKAYUKTA BUILDING [S00N]                             S00N    V              N             21   MAINTENANCE                            1.200000e+05\n",
       "                                                         2062   VIGILANCE                       0          -                                               103    LOKAYUKTA/UP-LOKAYUKTA                                                        1          LOKAYUKTA [S00N]                                                     S00N    C              N             1    SALARIES                               2.733054e+05\n",
       "                                                                                                                                                                                                                                                                                                                                                                     3    TRAVEL EXPENSES                        1.100973e+04\n",
       "                                                                                                                                                                                                                                                                                                                                                                     5    OFFICE EXPENSES                        1.531534e+04\n",
       "                                                                                                                                                                                                                                                                                                                                                                     6    MEDICAL REIMBURSEMENT                  2.075737e+04\n",
       "                                                                                                                                                                                                                                                                                                                                                                     30   MOTOR VEHICLES OS POL REPAIR           2.286482e+04\n",
       "                                                         4059   CAPITAL OUTLAY ON PUBLIC WORKS  1          OFFICE BUILDINGS                                51     CONSTRUCTION                                                                  25         CONSTRUCTION OF DISTRICT ATTORNEY OFFICES. [S00N]                    S00N    V              P             37   MAJOR WORKS                            7.999900e+06\n",
       "                                                                                                                                                                                                                                                36         ALTERNATE DISPUTE RESOLUTION (ADR) CENTRES [S00N]                    S00N    V              N             37   MAJOR WORKS                            1.000000e+06\n",
       "AGRICULTURE                                              2216   HOUSING                         5          GENERAL POOL ACCOMODATION                       53     MAINTENANCE AND REPAIRS                                                       1          OTHER MAINTENANCE EXPENDITURE [S00N]                                 S00N    V              N             21   MAINTENANCE                            2.226008e+05\n",
       "                                                         2407   PLANTATIONS                     1          TEA                                             800    OTHER EXPENDITURE                                                             1          TEA DEVELOPMENT IN H.P. [S00N]                                       S00N    V              N             1    SALARIES                               8.896876e+04\n",
       "                                                                                                                                                                                                                                                                                                                                                                     2    WAGES                                  1.063207e+04\n",
       "                                                                                                                                                                                                                                                                                                                                                                     3    TRAVEL EXPENSES                        3.531455e+03\n",
       "                                                                                                                                                                                                                                                                                                                                                                     5    OFFICE EXPENSES                        6.675688e+03\n",
       "                                                                                                                                                                                                                                                                                                                                                                     6    MEDICAL REIMBURSEMENT                  5.730588e+03\n",
       "                                                                                                                                                                                                                                                                                                                                                                     15   TRAINING                               1.100000e+04\n",
       "                                                                                                                                                                                                                                                                                                                                                                     30   MOTOR VEHICLES OS POL REPAIR           6.090000e+03\n",
       "                                                                                                                                                                                                                                                                                                                                                       P             5    OFFICE EXPENSES                        6.666667e+03\n",
       "                                                                                                                                                                                                                                                                                                                                                                     20   OTHER CHARGES                          2.941171e+04\n",
       "                                                                                                                                                                                                                                                                                                                                                                     30   MOTOR VEHICLES OS POL REPAIR           8.421913e+03\n",
       "                                                                                                                                                                                                                                                                                                                                                                     33   MATERIAL AND SUPPLY                    4.782598e+04\n",
       "                                                         2415   AGRICULTURAL RESEARCH AND EDUC  1          CROP HUSBANDARY                                 4      RESEARCH                                                                      2          G.I.A. TO H.P.K.V.V. FOR RESEARCH [S00N]                             S00N    V              P             41   GIA GENERAL (Salary)                   1.602250e+08\n",
       "                                                                                                                                                           277    EDUCATION                                                                     1          G.I.A. TO H.P. AGRI. UNIVERSITY FOR EDU- CATION [S00N]               S00N    V              P             41   GIA GENERAL (Salary)                   6.713333e+07\n",
       "                                                         2435   OTHER AGRICULTURAL PROGRAMMES   1          MARKETING & QUALIITY CONTROL                    190    ASSISTANCE TO PUBLIC SECTOR & OTHER UNDERTAKINGS                              1          GRANT TO MARKETING BOARD FOR CONSTRUCTION OF MARKETING YARDS [S00N]  S00N    V              N             44   GIA OF CAPITAL ASSETS                  5.000000e+07\n",
       "                                                                                                                                                                                                                                                                                                                                                       P             44   GIA OF CAPITAL ASSETS                  7.180000e+07\n",
       "                                                         2810   NEW AND RENEWABLE ENERGY        1          BIO ENERGY                                      103    BIOMASS                                                                       1          INSTALLATION OF GOBAR GAS PLANT [S00N]                               S00N    V              N             1    SALARIES                               1.244569e+05\n",
       "                                                                                                                                                                                                                                                                                                                                                                     3    TRAVEL EXPENSES                        4.374119e+03\n",
       "                                                                                                                                                                                                                                                                                                                                                                     5    OFFICE EXPENSES                        7.869718e+03\n",
       "                                                                                                                                                                                                                                                                                                                                                                     6    MEDICAL REIMBURSEMENT                  3.711339e+03\n",
       "                                                                                                                                                                                                                                                                                                                                                                     15   TRAINING                               3.800000e+04\n",
       "                                                                                                                                                                                                                                                                                                                                                                                                                     ...     \n",
       "URBAN DEVELOPMENT TOWN AND COUNTRY PLANNING AND HOUSING  2217   URBAN DEVELOPMENT               80         GENERAL                                         193    ASSISTANT TO NAGAR PANCHYATS/NOTIFIED AREA COMMITTEES OR EQUIVALANT THEREOF.  18         LAL BAHADUR SHASTRI KAMGAR EVAM SHAHARI AJEEVIKA YOJNA [S00N]        S00N    V              N             20   OTHER CHARGES                          3.000000e+06\n",
       "                                                         4215   CAPITAL OUTLAY ON WATER SUPPLY  2          SEWERAGE AND SANITATION                         106    SEWERAGE SERVICES                                                             2          DRAINAGE SANITATION SEWERAGE SCHEMES IN VARIOUS DISTRICTS [S00N]     S00N    V              P             37   MAJOR WORKS                            6.233333e+07\n",
       "                                                         4217   CAPITAL OUTLAY ON URBAN DEVELO  3          INTEGRATED DEVELOPMENT OF SMALL & MEDIUM TOWNS  51     CONSTRUCTION                                                                  5          PREPARATION OF DRAFT DEVELOPMENT PLAN [S00N]                         S00N    V              P             37   MAJOR WORKS                            5.259532e+04\n",
       "VIDHAN SABHA                                             2011   PARLIAMENT/STATE/U.T.LEGISLATU  2          STATE/U.T. LEGISLATURES                         101    LEGISLATIVE ASSEMBLY                                                          1          H.P.VIDHAN SABHA-SPEAKER/DEPUTY SPEAKER [S00N]                       S00N    C              N             1    SALARIES                               2.529804e+05\n",
       "                                                                                                                                                                                                                                                                                                                                                                     3    TRAVEL EXPENSES                        5.466460e+04\n",
       "                                                                                                                                                                                                                                                                                                                                                                     6    MEDICAL REIMBURSEMENT                  1.069923e+04\n",
       "                                                                                                                                                                                                                                                                                                                                        V              N             20   OTHER CHARGES                          8.491489e+04\n",
       "                                                                                                                                                                                                                                                3          HP VIDHAN SABHA-MEMBERS [S00N]                                       S00N    V              N             1    SALARIES                               1.004075e+07\n",
       "                                                                                                                                                                                                                                                                                                                                                                     3    TRAVEL EXPENSES                        3.385436e+05\n",
       "                                                                                                                                                                                                                                                                                                                                                                     5    OFFICE EXPENSES                        2.119457e+05\n",
       "                                                                                                                                                                                                                                                                                                                                                                     6    MEDICAL REIMBURSEMENT                  7.334332e+04\n",
       "                                                                                                                                                                                                                                                                                                                                                                     20   OTHER CHARGES                          2.852004e+05\n",
       "                                                                                                                                                                                                                                                                                                                                                                     42   GIA GENERAL (Non-Salary)               7.115000e+05\n",
       "                                                                                                                                                                                                                                                4          FREE TRAVEL FACTILITY TO EX.MEMBERS. [S00N]                          S00N    V              N             3    TRAVEL EXPENSES                        7.856589e+04\n",
       "                                                                                                                                                                                                                                                5          EXPENDITURE ON DISCRETIONARY GRANTS FOR MLAS [S00N]                  S00N    V              N             20   OTHER CHARGES                          2.077722e+05\n",
       "                                                                                                                                                           103    LEGISLATIVE SECRETARIAT                                                       1          STAFF OF LEGISLATURE SECRETARIAT [S00N]                              S00N    V              N             1    SALARIES                               5.528866e+05\n",
       "                                                                                                                                                                                                                                                                                                                                                                     2    WAGES                                  7.800000e+03\n",
       "                                                                                                                                                                                                                                                                                                                                                                     3    TRAVEL EXPENSES                        1.779354e+04\n",
       "                                                                                                                                                                                                                                                                                                                                                                     4    LIVERIES                               2.384153e+04\n",
       "                                                                                                                                                                                                                                                                                                                                                                     5    OFFICE EXPENSES                        5.626025e+04\n",
       "                                                                                                                                                                                                                                                                                                                                                                     6    MEDICAL REIMBURSEMENT                  2.914888e+04\n",
       "                                                                                                                                                                                                                                                                                                                                                                     7    RENT  RATES AND TAXES                  1.229515e+06\n",
       "                                                                                                                                                                                                                                                                                                                                                                     9    ADVERTISING AND PUBLICITY              4.562900e+04\n",
       "                                                                                                                                                                                                                                                                                                                                                                     10   HOSPITALITY AND ENT.EXPENSES           2.705113e+04\n",
       "                                                                                                                                                                                                                                                                                                                                                                     12   PROFESSIONAL AND SPECIAL SERVICE       1.992506e+04\n",
       "                                                                                                                                                                                                                                                                                                                                                                     20   OTHER CHARGES                          5.448205e+04\n",
       "                                                                                                                                                                                                                                                                                                                                                                     27   MOTOR VEHICLES PURCHASE                2.164172e+06\n",
       "                                                                                                                                                                                                                                                                                                                                                                     30   MOTOR VEHICLES OS POL REPAIR           2.032289e+04\n",
       "                                                                                                                                                                                                                                                                                                                                                                     65   REMUNERATION TO OUTSOURCE EMPLOYEES    5.755053e+05\n",
       "                                                         2216   HOUSING                         7          Other Housing                                   53     Maintenance and Repairs                                                       1          OTHER MAINTENANCE EXPENDITURE [S00N]                                 S00N    V              N             21   MAINTENANCE                            5.701054e+06\n",
       "Name: NETPAYMENT, Length: 2546, dtype: float64"
      ]
     },
     "execution_count": 8,
     "metadata": {},
     "output_type": "execute_result"
    }
   ],
   "source": [
    "spen1=spen1.groupby(['demand_desc', 'major', 'major_desc', 'sub_major',\n",
    "       'sub_major_desc', 'minor', 'minor_desc', 'sub_minor', 'sub_minor_desc',\n",
    "       'budget', 'voted_charged', 'plan_nonplan', 'SOE', 'SOE_description'])[\"NETPAYMENT\"].aggregate(\"mean\")\n",
    "spen1"
   ]
  },
  {
   "cell_type": "code",
   "execution_count": 9,
   "metadata": {},
   "outputs": [
    {
     "data": {
      "text/plain": [
       "demand_desc                                              major  major_desc                           sub_major  sub_major_desc                                  minor  minor_desc                                                                    sub_minor  sub_minor_desc                                                           budget  voted_charged  plan_nonplan  SOE  SOE_description                    \n",
       "ADMINISTRATION OF JUSTICE                                2059   PUBLIC WORKS                         1          OFFICE BUILDINGS                                53     MAINTENANCE AND REPAIRS                                                       57         MAINTENANCE OF LOKAYUKTA BUILDING [S00N]                                 S00N    V              N             21   MAINTENANCE                            3.480000e+05\n",
       "                                                         2062   VIGILANCE                            0          -                                               103    LOKAYUKTA/UP-LOKAYUKTA                                                        1          LOKAYUKTA [S00N]                                                         S00N    C              N             1    SALARIES                               2.588688e+05\n",
       "                                                                                                                                                                                                                                                                                                                                                                              3    TRAVEL EXPENSES                        1.176371e+04\n",
       "                                                                                                                                                                                                                                                                                                                                                                              5    OFFICE EXPENSES                        1.409124e+04\n",
       "                                                                                                                                                                                                                                                                                                                                                                              6    MEDICAL REIMBURSEMENT                  2.200550e+04\n",
       "                                                                                                                                                                                                                                                                                                                                                                              30   MOTOR VEHICLES OS POL REPAIR           1.479489e+04\n",
       "                                                         4059   CAPITAL OUTLAY ON PUBLIC WORKS       1          OFFICE BUILDINGS                                51     CONSTRUCTION                                                                  25         CONSTRUCTION OF DISTRICT ATTORNEY OFFICES. [S00N]                        S00N    V              P             37   MAJOR WORKS                            1.500000e+07\n",
       "                                                                                                                                                                                                                                                     36         ALTERNATE DISPUTE RESOLUTION (ADR) CENTRES [S00N]                        S00N    V              N             37   MAJOR WORKS                            2.440000e+07\n",
       "AGRICULTURE                                              2216   HOUSING                              5          GENERAL POOL ACCOMODATION                       53     MAINTENANCE AND REPAIRS                                                       1          OTHER MAINTENANCE EXPENDITURE [S00N]                                     S00N    V              N             21   MAINTENANCE                            2.330426e+05\n",
       "                                                         2407   PLANTATIONS                          1          TEA                                             800    OTHER EXPENDITURE                                                             1          TEA DEVELOPMENT IN H.P. [S00N]                                           S00N    V              N             1    SALARIES                               9.929575e+04\n",
       "                                                                                                                                                                                                                                                                                                                                                                              2    WAGES                                  8.408105e+03\n",
       "                                                                                                                                                                                                                                                                                                                                                                              3    TRAVEL EXPENSES                        4.322556e+03\n",
       "                                                                                                                                                                                                                                                                                                                                                                              5    OFFICE EXPENSES                        1.069400e+04\n",
       "                                                                                                                                                                                                                                                                                                                                                                              6    MEDICAL REIMBURSEMENT                  6.099765e+03\n",
       "                                                                                                                                                                                                                                                                                                                                                                              15   TRAINING                               1.200000e+04\n",
       "                                                                                                                                                                                                                                                                                                                                                                              30   MOTOR VEHICLES OS POL REPAIR           1.100000e+04\n",
       "                                                                                                                                                                                                                                                                                                                                                                P             5    OFFICE EXPENSES                        6.466353e+03\n",
       "                                                                                                                                                                                                                                                                                                                                                                              20   OTHER CHARGES                          1.750000e+04\n",
       "                                                                                                                                                                                                                                                                                                                                                                              30   MOTOR VEHICLES OS POL REPAIR           1.000000e+04\n",
       "                                                                                                                                                                                                                                                                                                                                                                              33   MATERIAL AND SUPPLY                    3.999961e+04\n",
       "                                                         2415   AGRICULTURAL RESEARCH AND EDUCATION  1          CROP HUSBANDARY                                 4      RESEARCH                                                                      2          G.I.A. TO H.P.K.V.V. FOR RESEARCH [S00N]                                 S00N    V              P             41   GIA GENERAL (Salary)                   1.433333e+08\n",
       "                                                                                                                                                                277    EDUCATION                                                                     1          G.I.A. TO H.P. AGRI. UNIVERSITY FOR EDU- CATION [S00N]                   S00N    V              P             41   GIA GENERAL (Salary)                   8.801667e+07\n",
       "                                                         2435   OTHER AGRICULTURAL PROGRAMMES        1          MARKETING & QUALIITY CONTROL                    190    ASSISTANCE TO PUBLIC SECTOR & OTHER UNDERTAKINGS                              1          GRANT TO MARKETING BOARD FOR CONSTRUCTION OF MARKETING YARDS [S00N]      S00N    V              N             44   GIA OF CAPITAL ASSETS                  2.500000e+07\n",
       "                                                                                                                                                                                                                                                                                                                                                                P             44   GIA OF CAPITAL ASSETS                  3.590000e+07\n",
       "                                                         2810   NEW AND RENEWABLE ENERGY             1          BIO ENERGY                                      103    BIOMASS                                                                       1          INSTALLATION OF GOBAR GAS PLANT [S00N]                                   S00N    V              N             1    SALARIES                               1.221364e+05\n",
       "                                                                                                                                                                                                                                                                                                                                                                              2    WAGES                                  1.209000e+05\n",
       "                                                                                                                                                                                                                                                                                                                                                                              3    TRAVEL EXPENSES                        4.124175e+03\n",
       "                                                                                                                                                                                                                                                                                                                                                                              5    OFFICE EXPENSES                        6.738289e+03\n",
       "                                                                                                                                                                                                                                                                                                                                                                              6    MEDICAL REIMBURSEMENT                  5.177786e+03\n",
       "                                                                                                                                                                                                                                                                                                                                                                              15   TRAINING                               9.500000e+03\n",
       "                                                                                                                                                                                                                                                                                                                                                                                                                              ...     \n",
       "URBAN DEVELOPMENT TOWN AND COUNTRY PLANNING AND HOUSING  2217   URBAN DEVELOPMENT                    80         GENERAL                                         193    ASSISTANT TO NAGAR PANCHYATS/NOTIFIED AREA COMMITTEES OR EQUIVALANT THEREOF.  17         DEVELOPMENT OF CHILDREN PARKS [S00N]                                     S00N    V              N             44   GIA OF CAPITAL ASSETS                  1.000000e+07\n",
       "                                                                                                                                                                                                                                                     19         MAINTENANCE OF NAGAR PANCHAYAT/ NOTIFIIED AREA COMMITTEE ROADS [S00N]    S00N    V              N             42   GIA GENERAL (Non-Salary)               2.000000e+07\n",
       "                                                         4217   CAPITAL OUTLAY ON URBAN DEVELOPMENT  1          STATE CAPITAL DEVELOPMENT                       190    INVESTMENT IN PUBLIC SECTOR & OTHER UNDERTAKINGS                              1          EQUITY/INVESTMENT IN SHIMLA JAL PRABANDHAN NIGAM LIMITED (SJPNL) [S00N]  S00N    V              P             43   INVESTMENT                             3.752450e+08\n",
       "                                                                                                     3          INTEGRATED DEVELOPMENT OF SMALL & MEDIUM TOWNS  51     CONSTRUCTION                                                                  5          PREPARATION OF DRAFT DEVELOPMENT PLAN [S00N]                             S00N    V              P             37   MAJOR WORKS                            8.330122e+04\n",
       "VIDHAN SABHA                                             2011   PARLIAMENT/STATE/U.T.LEGISLATURES    2          STATE/U.T. LEGISLATURES                         101    LEGISLATIVE ASSEMBLY                                                          1          H.P.VIDHAN SABHA-SPEAKER/DEPUTY SPEAKER [S00N]                           S00N    C              N             1    SALARIES                               2.328560e+05\n",
       "                                                                                                                                                                                                                                                                                                                                                                              3    TRAVEL EXPENSES                        8.930973e+04\n",
       "                                                                                                                                                                                                                                                                                                                                                                              6    MEDICAL REIMBURSEMENT                  4.687824e+03\n",
       "                                                                                                                                                                                                                                                                                                                                                 V              N             20   OTHER CHARGES                          8.753778e+04\n",
       "                                                                                                                                                                                                                                                     3          HP VIDHAN SABHA-MEMBERS [S00N]                                           S00N    V              N             1    SALARIES                               6.943185e+06\n",
       "                                                                                                                                                                                                                                                                                                                                                                              3    TRAVEL EXPENSES                        3.911568e+05\n",
       "                                                                                                                                                                                                                                                                                                                                                                              5    OFFICE EXPENSES                        1.087295e+05\n",
       "                                                                                                                                                                                                                                                                                                                                                                              6    MEDICAL REIMBURSEMENT                  7.383910e+04\n",
       "                                                                                                                                                                                                                                                                                                                                                                              20   OTHER CHARGES                          6.000000e+00\n",
       "                                                                                                                                                                                                                                                                                                                                                                              42   GIA GENERAL (Non-Salary)               8.230000e+05\n",
       "                                                                                                                                                                                                                                                     4          FREE TRAVEL FACTILITY TO EX.MEMBERS. [S00N]                              S00N    V              N             3    TRAVEL EXPENSES                        2.669404e+05\n",
       "                                                                                                                                                                                                                                                     5          EXPENDITURE ON DISCRETIONARY GRANTS FOR MLAS [S00N]                      S00N    V              N             20   OTHER CHARGES                          1.505396e+05\n",
       "                                                                                                                                                                103    LEGISLATIVE SECRETARIAT                                                       1          STAFF OF LEGISLATURE SECRETARIAT [S00N]                                  S00N    V              N             1    SALARIES                               6.385697e+05\n",
       "                                                                                                                                                                                                                                                                                                                                                                              3    TRAVEL EXPENSES                        2.255978e+04\n",
       "                                                                                                                                                                                                                                                                                                                                                                              4    LIVERIES                               1.627945e+04\n",
       "                                                                                                                                                                                                                                                                                                                                                                              5    OFFICE EXPENSES                        5.263288e+04\n",
       "                                                                                                                                                                                                                                                                                                                                                                              6    MEDICAL REIMBURSEMENT                  3.794126e+04\n",
       "                                                                                                                                                                                                                                                                                                                                                                              7    RENT  RATES AND TAXES                  1.457867e+06\n",
       "                                                                                                                                                                                                                                                                                                                                                                              9    ADVERTISING AND PUBLICITY              4.416667e+04\n",
       "                                                                                                                                                                                                                                                                                                                                                                              10   HOSPITALITY AND ENT.EXPENSES           2.574247e+04\n",
       "                                                                                                                                                                                                                                                                                                                                                                              12   PROFESSIONAL AND SPECIAL SERVICE       3.480513e+04\n",
       "                                                                                                                                                                                                                                                                                                                                                                              20   OTHER CHARGES                          5.993804e+04\n",
       "                                                                                                                                                                                                                                                                                                                                                                              27   MOTOR VEHICLES PURCHASE                1.394000e+06\n",
       "                                                                                                                                                                                                                                                                                                                                                                              30   MOTOR VEHICLES OS POL REPAIR           1.335294e+04\n",
       "                                                                                                                                                                                                                                                                                                                                                                              65   REMUNERATION TO OUTSOURCE EMPLOYEES    4.392722e+05\n",
       "                                                         2216   HOUSING                              7          OTHER HOUSING                                   53     MAINTENANCE AND REPAIRS                                                       1          OTHER MAINTENANCE EXPENDITURE [S00N]                                     S00N    V              N             21   MAINTENANCE                            9.251748e+05\n",
       "Name: NETPAYMENT, Length: 2722, dtype: float64"
      ]
     },
     "execution_count": 9,
     "metadata": {},
     "output_type": "execute_result"
    }
   ],
   "source": [
    "spen2=spen2.groupby(['demand_desc', 'major', 'major_desc', 'sub_major',\n",
    "       'sub_major_desc', 'minor', 'minor_desc', 'sub_minor', 'sub_minor_desc',\n",
    "       'budget', 'voted_charged', 'plan_nonplan', 'SOE', 'SOE_description'])[\"NETPAYMENT\"].aggregate(\"mean\")\n",
    "spen2"
   ]
  },
  {
   "cell_type": "code",
   "execution_count": null,
   "metadata": {},
   "outputs": [],
   "source": [
    "spen1.to_excel(\"spending_fy_2018_19.xlsx\",merge_cells=False)"
   ]
  },
  {
   "cell_type": "code",
   "execution_count": null,
   "metadata": {},
   "outputs": [],
   "source": [
    "spen2.to_excel(\"spending_fy_2019_20.xlsx\",merge_cells=False)"
   ]
  }
 ],
 "metadata": {
  "kernelspec": {
   "display_name": "Python 3",
   "language": "python",
   "name": "python3"
  },
  "language_info": {
   "codemirror_mode": {
    "name": "ipython",
    "version": 3
   },
   "file_extension": ".py",
   "mimetype": "text/x-python",
   "name": "python",
   "nbconvert_exporter": "python",
   "pygments_lexer": "ipython3",
   "version": "3.7.3"
  }
 },
 "nbformat": 4,
 "nbformat_minor": 2
}
